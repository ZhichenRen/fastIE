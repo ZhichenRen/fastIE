{
 "cells": [
  {
   "cell_type": "markdown",
   "source": [
    "# T0. 使用命令行工具\n",
    "## 1. 命令行工具简介\n",
    "\n",
    "使用命令行工具允许您以最快的速度使用 `fastie` 集成的多种模型对您的数据进行训练、验证和推理,\n",
    "当您成功安装 `fastie` 后，您可以通过在命令行中输入 `fastie` 来查看所有可以使用的命令行工具.\n",
    "具体而言, `fastie` 提供了以下命令行工具:\n",
    "\n",
    "### 1.1 fastie-train\n",
    "\n",
    "`fastie-train` 为 `fastie` 的训练工具，它可以帮助您使用 `fastie` 集成的模型架构或预设方案\n",
    "对您的数据集进行训练并保存模型参数，您可以通过 `fastie-train --help` 来查看所有可用的参数.\n",
    "具体而言，所有的 `fastie` 命令行工具都有拥有以下基础参数:\n",
    "\n",
    "- `--task`, `-t` 指定任务名称.\n",
    "- `--dataset`, `-d` 指定数据集名称.\n",
    "- `--config`, `-c` 指定预设配置名称.\n",
    "- `--help`, `-h` 获得当前可用参数的帮助信息.\n",
    "\n",
    "下面对每个参数进行详细说明:\n",
    "\n",
    "#### 1.1.1 task\n",
    "\n",
    "`fastie` 中的 `task` 代表具体的 `NLP` 任务及其使用的解决方案(或模型)架构, 例如, `fastie`\n",
    "提供了使用预训练的 `BERT` 模型进行 `NER` 任务的解决方案, 该解决方案的 `task` 名称为:\n",
    "`ner/bert`, `/` 符号分割了任务的名称和架构的名称.\n",
    "\n",
    "`fastie` 提供了 `--list`, `-l` 工具帮助您快速获悉 `fastie` 中所有可用的 `task` 名称.\n",
    "例如, 在控制台中输入(在您的控制台中请勿输入开头的 `!` 字符):"
   ],
   "metadata": {
    "collapsed": false
   }
  },
  {
   "cell_type": "code",
   "execution_count": 6,
   "outputs": [
    {
     "name": "stdout",
     "output_type": "stream",
     "text": [
      "Task   Solution                            Description                          \r\n",
      "================================================================================\r\n",
      "NER    bert       用预训练模型 Bert 对 token 进行向量表征，然后通过 classification head 对每个 token\r\n",
      "                  进行分类。                                                    \r\n",
      "                                                                                \r\n"
     ]
    }
   ],
   "source": [
    "!fastie-train --task --list"
   ],
   "metadata": {
    "collapsed": false
   }
  },
  {
   "cell_type": "markdown",
   "source": [
    "`fastie` 的检索功能同时支持筛选, 若您只想查看 `NER` 的相关任务, 您可以输入:"
   ],
   "metadata": {
    "collapsed": false
   }
  },
  {
   "cell_type": "code",
   "execution_count": 7,
   "outputs": [
    {
     "name": "stdout",
     "output_type": "stream",
     "text": [
      "Task   Solution                            Description                          \r\n",
      "================================================================================\r\n",
      "NER    bert       用预训练模型 Bert 对 token 进行向量表征，然后通过 classification head 对每个 token\r\n",
      "                  进行分类。                                                    \r\n",
      "                                                                                \r\n"
     ]
    }
   ],
   "source": [
    "!fastie-train --task ner --list"
   ],
   "metadata": {
    "collapsed": false
   }
  },
  {
   "cell_type": "markdown",
   "source": [
    "#### 1.1.2 dataset\n",
    "\n",
    "`fastie` 中的 `dataset` 代表具体的 `NLP` 数据集或者数据集结构, 例如, `fastie` 提供了\n",
    "`CoNLL-2003` 数据集, 那么对应的 `dataset` 名称为 `conll2003`. `fastie` 除了提供常用\n",
    "`NLP` 数据集外(在 `fastie` 中被称为 `legacy` 数据集)，还提供了多种数据集格式(在 `fastie`\n",
    "中被称为 `io` 数据集), 便于您读取自己的数据集, 例如, `fastie` 提供了 `jsonlines-ner`\n",
    "格式的数据集:\n",
    "\n",
    "```jsonl\n",
    "{\"tokens\": [\"I\", \"love\", \"fastie\", \".\"], \"entity_motions\": [\n",
    "    {\"entity_index\": [0], \"entity_type\": \"PER\"}\n",
    "    {\"entity_index\": [2], \"entity_type\": \"MISC\"}\n",
    "]}\n",
    "{\"tokens\": [\"I\", \"love\", \"fastNLP\", \".\"], \"entity_motions\": [\n",
    "    {\"entity_index\": [0], \"entity_type\": \"PER\"}\n",
    "    {\"entity_index\": [2], \"entity_type\": \"MISC\"}\n",
    "]}\n",
    "```\n",
    "\n",
    "如上所示, `jsonlines` 格式规定您的文件中每行是一个 `json` 格式的样本, 当您的数据集是\n",
    "`jsonlines-ner`格式的时候，您就可以将 `dataset` 设置为 `jsonlines-ner`，`fastie` 会自动\n",
    "读取您的数据集.\n",
    "\n",
    "与 `task` 类似, `fastie` 提供了 `--list`, `-l` 工具帮助您快速获悉 `fastie` 中所有可用的\n",
    "`dataset` 名称. 例如, 在控制台中输入(在您的控制台中请勿输入开头的 `!` 字符):"
   ],
   "metadata": {
    "collapsed": false
   }
  },
  {
   "cell_type": "code",
   "execution_count": 8,
   "outputs": [
    {
     "name": "stdout",
     "output_type": "stream",
     "text": [
      "   Dataset                                Description                           \r\n",
      "================================================================================\r\n",
      "conll2003       The shared task of CoNLL-2003 concerns language-independent     \r\n",
      "                named entity                                                    \r\n",
      "wikiann         这个类还没写好，请勿参考.                                       \r\n",
      "column-ner      这个类还没写好，请勿参考.                                       \r\n",
      "sentence        None                                                            \r\n",
      "jsonlines-ner   None                                                            \r\n",
      "                                                                                \r\n"
     ]
    }
   ],
   "source": [
    "!fastie-train --dataset --list"
   ],
   "metadata": {
    "collapsed": false
   }
  },
  {
   "cell_type": "markdown",
   "source": [
    "#### 1.1.3 config\n",
    "\n",
    "`fastie` 中的 `config` 代表预设配置文件, 您可以使用自己的配置文件, 也可以使用 `fastie` 提\n",
    "供的预设配置. 简单来说, `config` 同时具有 `fastie` 中的 `task` 和 `dataset` 的功能, 例如,\n",
    "您可以在当前的工作目录建立 `config.py`:\n",
    "\n",
    "```python\n",
    "config = {\n",
    "    \"task\": \"ner/bert\",\n",
    "    \"dataset\": \"conll2003\"\n",
    "}\n",
    "```\n",
    "\n",
    "然后在控制台中输入:\n",
    "\n",
    "```bash\n",
    "fastie-train --config config.py\n",
    "```\n",
    "\n",
    "上述的操作等价于直接在命令行输入:\n",
    "\n",
    "```bash\n",
    "fastie-train --task ner/bert --dataset conll2003\n",
    "```\n",
    "\n",
    "如上所示可见 `fastie` 中的 `config` 是使用 `python` 语言编写的, 因此您可以在 `config` 中\n",
    "使用任何 `python` 语言的特性, 例如, 您可以在 `config` 中使用 `if` 语句来判断当前的 `task`\n",
    "和 `dataset` 并设置不同的参数:\n",
    "\n",
    "```python\n",
    "dataset = \"conll2003\"\n",
    "config = {\n",
    "    \"task\": \"ner/bert\" if dataset == \"conll2003\" else \"ner/bilstm\",\n",
    "    \"dataset\": dataset\n",
    "}\n",
    "```\n",
    "\n",
    "但是请注意, 您提供的配置文件必须包含 `config` 变量, 且 `config` 变量必须是一个 `dict` 类型.\n",
    "\n",
    "`fastie` 中的配置文件除了可以储存 `task`, `dataset` 这种基础参数外, 还可以储存 `task` 或\n",
    "`dataset` 规定的内部参数, 详见 `2. 获得命令行的帮助`.\n",
    "\n",
    "同样的, `fastie` 提供了 `--list`, `-l` 工具帮助您快速获悉 `fastie` 中所有可用的 `config`\n",
    "名称. 例如, 在控制台中输入(在您的控制台中请勿输入开头的 `!` 字符):"
   ],
   "metadata": {
    "collapsed": false
   }
  },
  {
   "cell_type": "code",
   "execution_count": 9,
   "outputs": [
    {
     "name": "stdout",
     "output_type": "stream",
     "text": [
      "Config           Description                                \r\n",
      "bert-conll2003   : 使用 bert 对 conll2003 数据集进行序列标注\r\n"
     ]
    }
   ],
   "source": [
    "!fastie-train --config --list"
   ],
   "metadata": {
    "collapsed": false
   }
  },
  {
   "cell_type": "markdown",
   "source": [
    "### 1.2 fastie-eval\n",
    "\n",
    "`fastie-eval` 是 `fastie` 中的验证工具, 用于评估 `fastie-train` 训练出的模型. `fastie-eval`\n",
    "的使用方法与 `fastie-train` 类似, 同样拥有 `--task`, `--dataset`, `--config` 这三个参数.\n",
    "\n",
    "在进行模型评测的时候, 我们一般需要设置一个模型文件路径的参数, 用于初始化 `task` 中的模型, 因此\n",
    "在这里简答介绍 `fastie` 的渐进式命令行帮助机制:\n",
    "\n",
    "当您仅在控制台中输入 `fastie-eval --help` 时, `fastie` 只会提供给你 `--task`, `--dataset`,\n",
    "`--config` 这三个基本参数的帮助. 而当您进一步明确了 `task` 或者 `dataset` 或者 `config` 后,\n",
    "`--help` 提供的参数帮助将会增加, 例如, 当您输入 `fastie-eval --task ner/bert --help` 时:"
   ],
   "metadata": {
    "collapsed": false
   }
  },
  {
   "cell_type": "code",
   "execution_count": 10,
   "outputs": [
    {
     "name": "stdout",
     "output_type": "stream",
     "text": [
      "usage: fastie-train [-h] [--config] [--task] [--dataset] [--cuda ]\r\n",
      "                    [--load_model] [--batch_size] [--shuffle ]\r\n",
      "                    [--pretrained_model_name_or_path]\r\n",
      "\r\n",
      "options:\r\n",
      "  -h, --help            show this help message and exit\r\n",
      "\r\n",
      "fastIE command line basic arguments:\r\n",
      "  --config , -c         The config file you want to use. default:\r\n",
      "  --task , -t           The task you want to use. Please use / to split the\r\n",
      "                        task and the specific solution. default:\r\n",
      "  --dataset , -d        The dataset you want to work with. default:\r\n",
      "\r\n",
      "Use pre-trained BERT and a classification head to classify tokens:\r\n",
      "  --cuda []             Whether to use your NVIDIA graphics card to accelerate\r\n",
      "                        the process. default: False\r\n",
      "  --load_model          Load the model from the path or model name. default:\r\n",
      "  --batch_size          Batch size. default: 32\r\n",
      "  --shuffle []          Whether to shuffle the dataset. default: True\r\n",
      "  --pretrained_model_name_or_path \r\n",
      "                        name of transformer model (see https://huggingface.co/\r\n",
      "                        transformers/pretrained_models.html for options).\r\n",
      "                        default: bert-base-uncased\r\n"
     ]
    }
   ],
   "source": [
    "!fastie-eval --task ner/bert --help"
   ],
   "metadata": {
    "collapsed": false
   }
  },
  {
   "cell_type": "markdown",
   "source": [
    "造成上述现象的原因是 `fastie` 会根据您的输入自动加载 `task` 或者 `dataset`, 并将其可用的参数\n",
    "帮助信息打印出来. 因此, 当您使用 `fastie` 的时候, 请尽量使用 `--help`.\n",
    "\n",
    "因此, 如果我们想要用现有的 `bertNER` 模型对自己的 `jsonlines-ner` 数据集进行验证, 我们可以在控制台中\n",
    "首先查询自己需要输入的参数信息:"
   ],
   "metadata": {
    "collapsed": false
   }
  },
  {
   "cell_type": "code",
   "execution_count": 13,
   "outputs": [
    {
     "name": "stdout",
     "output_type": "stream",
     "text": [
      "usage: fastie-train [-h] [--config] [--task] [--dataset] [--cuda ]\r\n",
      "                    [--load_model] [--batch_size] [--shuffle ]\r\n",
      "                    [--pretrained_model_name_or_path] [--use_cache ]\r\n",
      "                    [--refresh_cache ] [--folder] [--right_inclusive ]\r\n",
      "\r\n",
      "options:\r\n",
      "  -h, --help            show this help message and exit\r\n",
      "\r\n",
      "fastIE command line basic arguments:\r\n",
      "  --config , -c         The config file you want to use. default:\r\n",
      "  --task , -t           The task you want to use. Please use / to split the\r\n",
      "                        task and the specific solution. default:\r\n",
      "  --dataset , -d        The dataset you want to work with. default:\r\n",
      "\r\n",
      "Use pre-trained BERT and a classification head to classify tokens:\r\n",
      "  --cuda []             Whether to use your NVIDIA graphics card to accelerate\r\n",
      "                        the process. default: False\r\n",
      "  --load_model          Load the model from the path or model name. default:\r\n",
      "  --batch_size          Batch size. default: 32\r\n",
      "  --shuffle []          Whether to shuffle the dataset. default: True\r\n",
      "  --pretrained_model_name_or_path \r\n",
      "                        name of transformer model (see https://huggingface.co/\r\n",
      "                        transformers/pretrained_models.html for options).\r\n",
      "                        default: bert-base-uncased\r\n",
      "\r\n",
      "数据集基类:\r\n",
      "  --use_cache []        The result of data loading is cached for accelerated\r\n",
      "                        reading the next time it is used. default: False\r\n",
      "  --refresh_cache []    Clear cache (Use this when your data changes).\r\n",
      "                        default: False\r\n",
      "  --folder              The folder where the data set resides. We will\r\n",
      "                        automatically read the possible train.jsonl,\r\n",
      "                        dev.jsonl, test.jsonl and infer.jsonl in it. default:\r\n",
      "  --right_inclusive []  When data is in the format of start and end, whether\r\n",
      "                        each span contains the token corresponding to end.\r\n",
      "                        default: True\r\n"
     ]
    }
   ],
   "source": [
    "!fastie-eval --task ner/bert --dataset jsonlines-ner --help"
   ],
   "metadata": {
    "collapsed": false
   }
  },
  {
   "cell_type": "markdown",
   "source": [
    "从获得帮助信息中可知, 我们需要 `load_model` 参数来加载 `fastie-train` 训练好的模型, 而\n",
    "`jsonlines-ner` 数据集需要 `folder` 参数来指定数据集路径. 因此, 完整的验证命令为:\n",
    "\n",
    "```bash\n",
    "fastie-eval --task ner/bert --dataset jsonlines-ner --load_model /path/to/model --folder /path/to/dataset\n",
    "```\n",
    "\n",
    "### 1.3 fastie-infer\n",
    "\n",
    "`fastie-infer` 是 `fastie` 中的推理工具, 用于使用训练好的模型对新的数据进行预测. `fastie-infer`\n",
    "的使用方法与 `fastie-eval` 类似, 但 `fastie` 中的数据集一般只有 `tokens` 字段.\n",
    "\n",
    "在 `fastie` 中为您提供了推理专用的数据结构 `sentence`, 方便您快速对单个序列进行测试, 例如:\n",
    "\n",
    "```bash\n",
    "fastie-infer --task ner/bert --load_model /path/to/model --dataset sentence --sentence \"I love fastie .\"\n",
    "```\n",
    "\n",
    "### 1.4 fastie-interact\n",
    "\n",
    "`fastie-interact` 是 `fastie` 中的交互工具, 用于与训练好的模型进行交互. `fastie-interact`\n",
    "的使用方法与 `fastie-eval` 类似, 但由于 `fastie-interact` 的数据集为您实时输入的序列, 因此\n",
    "没有 `dataset` 参数.\n",
    "\n",
    "## 2. 获得命令行的帮助\n",
    "\n",
    "`fastie` 中的所有工具都提供了 `--help` 参数, 用于获得命令行的帮助信息. 帮助信息会随着您进一步\n",
    "明确 `task` 或者 `dataset` 或者 `config` 后增加, 例如, 当您指定 `task` 为 `ner/bert`\n",
    "后, 帮助信息将 `ner/bert` 需要的参数也展示出来.\n",
    "\n",
    "## 3. 使用配置文件\n",
    "\n",
    " 如前文 `1.1.3 config` 所述, `config` 文件不但可以储存基础参数 `task`, `dataset`, 还可以\n",
    " 储存 `task` 或 `dataset` 规定的内部参数. 例如, 可以在 `config` 中设置 `task` 的 `batch_size`\n",
    " 等参数, 也可以在 `config` 中设置 `dataset` 的 `folder` 等参数:\n",
    "\n",
    "```python\n",
    "config = {\n",
    "    \"task\": \"ner/bert\",\n",
    "    \"dataset\": \"conll2003\",\n",
    "    \"batch_size\": 32,\n",
    "    \"folder\": \"/path/to/dataset\"\n",
    "}\n",
    "```\n",
    "\n",
    "值得注意的是, `config` 文件中的参数, `help` 中提示的参数, 与 `SDK` 方式中每个 `task` 类或\n",
    "`dataset` 类的参数都是保持一致的, 因此, 无论您使用哪种方式, 您都可以使用 `--help` 获得\n",
    "完整的参数帮助信息."
   ],
   "metadata": {
    "collapsed": false
   }
  }
 ],
 "metadata": {
  "kernelspec": {
   "display_name": "Python 3",
   "language": "python",
   "name": "python3"
  },
  "language_info": {
   "codemirror_mode": {
    "name": "ipython",
    "version": 2
   },
   "file_extension": ".py",
   "mimetype": "text/x-python",
   "name": "python",
   "nbconvert_exporter": "python",
   "pygments_lexer": "ipython2",
   "version": "2.7.6"
  }
 },
 "nbformat": 4,
 "nbformat_minor": 0
}
